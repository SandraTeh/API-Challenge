{
 "cells": [
  {
   "cell_type": "markdown",
   "metadata": {},
   "source": [
    "# VacationPy\n",
    "----\n",
    "\n",
    "#### Note\n",
    "* Keep an eye on your API usage. Use https://developers.google.com/maps/reporting/gmp-reporting as reference for how to monitor your usage and billing.\n",
    "\n",
    "* Instructions have been included for each segment. You do not have to follow them exactly, but they are included to help you think through the steps."
   ]
  },
  {
   "cell_type": "code",
   "execution_count": 1,
   "metadata": {
    "ExecuteTime": {
     "end_time": "2020-10-18T23:15:53.486632Z",
     "start_time": "2020-10-18T23:15:52.618356Z"
    }
   },
   "outputs": [],
   "source": [
    "# Dependencies and Setup\n",
    "import matplotlib.pyplot as plt\n",
    "import pandas as pd\n",
    "import numpy as np\n",
    "import requests\n",
    "import gmaps\n",
    "import os\n",
    "\n",
    "# Import API key\n",
    "from api_keys import g_key"
   ]
  },
  {
   "cell_type": "markdown",
   "metadata": {},
   "source": [
    "### Store Part I results into DataFrame\n",
    "* Load the csv exported in Part I to a DataFrame"
   ]
  },
  {
   "cell_type": "code",
   "execution_count": 2,
   "metadata": {
    "ExecuteTime": {
     "end_time": "2020-10-18T23:15:53.505599Z",
     "start_time": "2020-10-18T23:15:53.487626Z"
    }
   },
   "outputs": [
    {
     "data": {
      "text/html": [
       "<div>\n",
       "<style scoped>\n",
       "    .dataframe tbody tr th:only-of-type {\n",
       "        vertical-align: middle;\n",
       "    }\n",
       "\n",
       "    .dataframe tbody tr th {\n",
       "        vertical-align: top;\n",
       "    }\n",
       "\n",
       "    .dataframe thead th {\n",
       "        text-align: right;\n",
       "    }\n",
       "</style>\n",
       "<table border=\"1\" class=\"dataframe\">\n",
       "  <thead>\n",
       "    <tr style=\"text-align: right;\">\n",
       "      <th></th>\n",
       "      <th>City</th>\n",
       "      <th>Country</th>\n",
       "      <th>Latitude</th>\n",
       "      <th>longitude</th>\n",
       "      <th>Temperature</th>\n",
       "      <th>Humidity</th>\n",
       "      <th>Cloudiness</th>\n",
       "      <th>Wind Speed</th>\n",
       "      <th>Date</th>\n",
       "    </tr>\n",
       "  </thead>\n",
       "  <tbody>\n",
       "    <tr>\n",
       "      <th>0</th>\n",
       "      <td>Alofi</td>\n",
       "      <td>NU</td>\n",
       "      <td>-19.06</td>\n",
       "      <td>-169.92</td>\n",
       "      <td>78.80</td>\n",
       "      <td>94</td>\n",
       "      <td>84</td>\n",
       "      <td>6.93</td>\n",
       "      <td>1603019794</td>\n",
       "    </tr>\n",
       "    <tr>\n",
       "      <th>1</th>\n",
       "      <td>Cherskiy</td>\n",
       "      <td>RU</td>\n",
       "      <td>68.75</td>\n",
       "      <td>161.30</td>\n",
       "      <td>20.84</td>\n",
       "      <td>92</td>\n",
       "      <td>77</td>\n",
       "      <td>9.95</td>\n",
       "      <td>1603019794</td>\n",
       "    </tr>\n",
       "    <tr>\n",
       "      <th>2</th>\n",
       "      <td>Saint Paul Harbor</td>\n",
       "      <td>US</td>\n",
       "      <td>57.79</td>\n",
       "      <td>-152.41</td>\n",
       "      <td>37.40</td>\n",
       "      <td>81</td>\n",
       "      <td>75</td>\n",
       "      <td>3.36</td>\n",
       "      <td>1603019794</td>\n",
       "    </tr>\n",
       "    <tr>\n",
       "      <th>3</th>\n",
       "      <td>Bilma</td>\n",
       "      <td>NE</td>\n",
       "      <td>18.69</td>\n",
       "      <td>12.92</td>\n",
       "      <td>98.76</td>\n",
       "      <td>8</td>\n",
       "      <td>0</td>\n",
       "      <td>2.77</td>\n",
       "      <td>1603019794</td>\n",
       "    </tr>\n",
       "    <tr>\n",
       "      <th>4</th>\n",
       "      <td>Saint-Philippe</td>\n",
       "      <td>RE</td>\n",
       "      <td>-21.36</td>\n",
       "      <td>55.77</td>\n",
       "      <td>82.40</td>\n",
       "      <td>61</td>\n",
       "      <td>90</td>\n",
       "      <td>17.22</td>\n",
       "      <td>1603019794</td>\n",
       "    </tr>\n",
       "  </tbody>\n",
       "</table>\n",
       "</div>"
      ],
      "text/plain": [
       "                City Country  Latitude  longitude  Temperature  Humidity  \\\n",
       "0              Alofi      NU    -19.06    -169.92        78.80        94   \n",
       "1           Cherskiy      RU     68.75     161.30        20.84        92   \n",
       "2  Saint Paul Harbor      US     57.79    -152.41        37.40        81   \n",
       "3              Bilma      NE     18.69      12.92        98.76         8   \n",
       "4     Saint-Philippe      RE    -21.36      55.77        82.40        61   \n",
       "\n",
       "   Cloudiness  Wind Speed        Date  \n",
       "0          84        6.93  1603019794  \n",
       "1          77        9.95  1603019794  \n",
       "2          75        3.36  1603019794  \n",
       "3           0        2.77  1603019794  \n",
       "4          90       17.22  1603019794  "
      ]
     },
     "execution_count": 2,
     "metadata": {},
     "output_type": "execute_result"
    }
   ],
   "source": [
    "data_file = \"Weather.csv\"\n",
    "weather_df = pd.read_csv(data_file)\n",
    "weather_df.head()"
   ]
  },
  {
   "cell_type": "markdown",
   "metadata": {},
   "source": [
    "### Humidity Heatmap\n",
    "* Configure gmaps.\n",
    "* Use the Lat and Lng as locations and Humidity as the weight.\n",
    "* Add Heatmap layer to map."
   ]
  },
  {
   "cell_type": "code",
   "execution_count": 3,
   "metadata": {
    "ExecuteTime": {
     "end_time": "2020-10-18T23:15:53.515562Z",
     "start_time": "2020-10-18T23:15:53.510585Z"
    }
   },
   "outputs": [],
   "source": [
    "#Configure gmaps.\n",
    "gmaps.configure(api_key=g_key)\n",
    "\n",
    "#Use the Lat and Lng as locations and Humidity as the weight.\n",
    "locations = weather_df[[\"Latitude\", \"longitude\"]]\n",
    "humidity = weather_df[\"Humidity\"]"
   ]
  },
  {
   "cell_type": "code",
   "execution_count": 4,
   "metadata": {
    "ExecuteTime": {
     "end_time": "2020-10-18T23:15:53.562439Z",
     "start_time": "2020-10-18T23:15:53.517545Z"
    }
   },
   "outputs": [
    {
     "data": {
      "application/vnd.jupyter.widget-view+json": {
       "model_id": "edf8cbdc44184703a8f93686720a904f",
       "version_major": 2,
       "version_minor": 0
      },
      "text/plain": [
       "Figure(layout=FigureLayout(height='420px'))"
      ]
     },
     "metadata": {},
     "output_type": "display_data"
    }
   ],
   "source": [
    "# Plot Heatmap\n",
    "fig = gmaps.figure()\n",
    "\n",
    "# Create heat layer\n",
    "heat_layer = gmaps.heatmap_layer(locations, weights=humidity, \n",
    "                                 dissipating=False, max_intensity=10,\n",
    "                                 point_radius=1)\n",
    "\n",
    "\n",
    "# Add layer\n",
    "fig.add_layer(heat_layer)\n",
    "\n",
    "# Display figure\n",
    "fig"
   ]
  },
  {
   "cell_type": "markdown",
   "metadata": {},
   "source": [
    "### Create new DataFrame fitting weather criteria\n",
    "* Narrow down the cities to fit weather conditions.\n",
    "* Drop any rows will null values."
   ]
  },
  {
   "cell_type": "code",
   "execution_count": 5,
   "metadata": {
    "ExecuteTime": {
     "end_time": "2020-10-18T23:15:53.604313Z",
     "start_time": "2020-10-18T23:15:53.563424Z"
    }
   },
   "outputs": [
    {
     "name": "stderr",
     "output_type": "stream",
     "text": [
      "C:\\Users\\TEHS\\Anaconda3\\envs\\homework\\lib\\site-packages\\ipykernel_launcher.py:9: SettingWithCopyWarning: \n",
      "A value is trying to be set on a copy of a slice from a DataFrame\n",
      "\n",
      "See the caveats in the documentation: https://pandas.pydata.org/pandas-docs/stable/user_guide/indexing.html#returning-a-view-versus-a-copy\n",
      "  if __name__ == '__main__':\n"
     ]
    },
    {
     "data": {
      "text/html": [
       "<div>\n",
       "<style scoped>\n",
       "    .dataframe tbody tr th:only-of-type {\n",
       "        vertical-align: middle;\n",
       "    }\n",
       "\n",
       "    .dataframe tbody tr th {\n",
       "        vertical-align: top;\n",
       "    }\n",
       "\n",
       "    .dataframe thead th {\n",
       "        text-align: right;\n",
       "    }\n",
       "</style>\n",
       "<table border=\"1\" class=\"dataframe\">\n",
       "  <thead>\n",
       "    <tr style=\"text-align: right;\">\n",
       "      <th></th>\n",
       "      <th>City</th>\n",
       "      <th>Country</th>\n",
       "      <th>Latitude</th>\n",
       "      <th>longitude</th>\n",
       "      <th>Temperature</th>\n",
       "      <th>Humidity</th>\n",
       "      <th>Cloudiness</th>\n",
       "      <th>Wind Speed</th>\n",
       "      <th>Date</th>\n",
       "    </tr>\n",
       "  </thead>\n",
       "  <tbody>\n",
       "    <tr>\n",
       "      <th>20</th>\n",
       "      <td>Port Lincoln</td>\n",
       "      <td>AU</td>\n",
       "      <td>-34.73</td>\n",
       "      <td>135.87</td>\n",
       "      <td>52.39</td>\n",
       "      <td>72</td>\n",
       "      <td>0</td>\n",
       "      <td>9.22</td>\n",
       "      <td>1603019797</td>\n",
       "    </tr>\n",
       "    <tr>\n",
       "      <th>55</th>\n",
       "      <td>Vrangel'</td>\n",
       "      <td>RU</td>\n",
       "      <td>42.73</td>\n",
       "      <td>133.08</td>\n",
       "      <td>53.24</td>\n",
       "      <td>53</td>\n",
       "      <td>0</td>\n",
       "      <td>2.15</td>\n",
       "      <td>1603019805</td>\n",
       "    </tr>\n",
       "    <tr>\n",
       "      <th>125</th>\n",
       "      <td>Kars</td>\n",
       "      <td>TR</td>\n",
       "      <td>40.60</td>\n",
       "      <td>43.09</td>\n",
       "      <td>69.80</td>\n",
       "      <td>18</td>\n",
       "      <td>0</td>\n",
       "      <td>5.82</td>\n",
       "      <td>1603019815</td>\n",
       "    </tr>\n",
       "    <tr>\n",
       "      <th>205</th>\n",
       "      <td>Los Andes</td>\n",
       "      <td>CL</td>\n",
       "      <td>-32.83</td>\n",
       "      <td>-70.60</td>\n",
       "      <td>60.01</td>\n",
       "      <td>99</td>\n",
       "      <td>0</td>\n",
       "      <td>0.40</td>\n",
       "      <td>1603019828</td>\n",
       "    </tr>\n",
       "    <tr>\n",
       "      <th>265</th>\n",
       "      <td>Buin</td>\n",
       "      <td>CL</td>\n",
       "      <td>-33.73</td>\n",
       "      <td>-70.75</td>\n",
       "      <td>64.00</td>\n",
       "      <td>93</td>\n",
       "      <td>0</td>\n",
       "      <td>2.24</td>\n",
       "      <td>1603019838</td>\n",
       "    </tr>\n",
       "    <tr>\n",
       "      <th>312</th>\n",
       "      <td>Corrales</td>\n",
       "      <td>US</td>\n",
       "      <td>35.24</td>\n",
       "      <td>-106.61</td>\n",
       "      <td>53.01</td>\n",
       "      <td>21</td>\n",
       "      <td>0</td>\n",
       "      <td>1.99</td>\n",
       "      <td>1603019688</td>\n",
       "    </tr>\n",
       "    <tr>\n",
       "      <th>443</th>\n",
       "      <td>Maciel</td>\n",
       "      <td>AR</td>\n",
       "      <td>-32.46</td>\n",
       "      <td>-60.89</td>\n",
       "      <td>75.00</td>\n",
       "      <td>88</td>\n",
       "      <td>0</td>\n",
       "      <td>4.70</td>\n",
       "      <td>1603019869</td>\n",
       "    </tr>\n",
       "    <tr>\n",
       "      <th>467</th>\n",
       "      <td>Constitución</td>\n",
       "      <td>CL</td>\n",
       "      <td>-35.33</td>\n",
       "      <td>-72.42</td>\n",
       "      <td>51.42</td>\n",
       "      <td>83</td>\n",
       "      <td>0</td>\n",
       "      <td>5.93</td>\n",
       "      <td>1603019873</td>\n",
       "    </tr>\n",
       "  </tbody>\n",
       "</table>\n",
       "</div>"
      ],
      "text/plain": [
       "             City Country  Latitude  longitude  Temperature  Humidity  \\\n",
       "20   Port Lincoln      AU    -34.73     135.87        52.39        72   \n",
       "55       Vrangel'      RU     42.73     133.08        53.24        53   \n",
       "125          Kars      TR     40.60      43.09        69.80        18   \n",
       "205     Los Andes      CL    -32.83     -70.60        60.01        99   \n",
       "265          Buin      CL    -33.73     -70.75        64.00        93   \n",
       "312      Corrales      US     35.24    -106.61        53.01        21   \n",
       "443        Maciel      AR    -32.46     -60.89        75.00        88   \n",
       "467  Constitución      CL    -35.33     -72.42        51.42        83   \n",
       "\n",
       "     Cloudiness  Wind Speed        Date  \n",
       "20            0        9.22  1603019797  \n",
       "55            0        2.15  1603019805  \n",
       "125           0        5.82  1603019815  \n",
       "205           0        0.40  1603019828  \n",
       "265           0        2.24  1603019838  \n",
       "312           0        1.99  1603019688  \n",
       "443           0        4.70  1603019869  \n",
       "467           0        5.93  1603019873  "
      ]
     },
     "execution_count": 5,
     "metadata": {},
     "output_type": "execute_result"
    }
   ],
   "source": [
    "#Narrow down the DataFrame to find your ideal weather condition. For example:\n",
    "#A max temperature lower than 80 degrees but higher than 70.\n",
    "#Wind speed less than 10 mph.\n",
    "#Zero cloudiness.\n",
    "#Drop any rows that don't contain all three conditions. You want to be sure the weather is ideal.\n",
    "#Note: Feel free to adjust to your specifications but be sure to limit the number of rows returned by your API requests to a reasonable number.\n",
    "city_df = weather_df.loc[(weather_df[\"Wind Speed\"] <= 10) & (weather_df[\"Cloudiness\"] == 0) & \\\n",
    "                         (weather_df[\"Temperature\"] >= 50) & (weather_df[\"Temperature\"] <= 75)]\n",
    "city_df.dropna(inplace = True) \n",
    "city_df"
   ]
  },
  {
   "cell_type": "code",
   "execution_count": 6,
   "metadata": {
    "ExecuteTime": {
     "end_time": "2020-10-18T23:15:53.607313Z",
     "start_time": "2020-10-18T23:15:53.605313Z"
    }
   },
   "outputs": [],
   "source": [
    "# Hotel Map\n",
    "# Store into variable named `hotel_df`.\n",
    "# Add a \"Hotel Name\" column to the DataFrame.\n",
    "# Set parameters to search for hotels with 5000 meters.\n",
    "# Hit the Google Places API for each city's coordinates.\n",
    "# Store the first Hotel result into the DataFrame.\n",
    "# Plot markers on top of the heatmap."
   ]
  },
  {
   "cell_type": "code",
   "execution_count": 7,
   "metadata": {
    "ExecuteTime": {
     "end_time": "2020-10-18T23:15:53.629247Z",
     "start_time": "2020-10-18T23:15:53.611297Z"
    }
   },
   "outputs": [
    {
     "name": "stderr",
     "output_type": "stream",
     "text": [
      "C:\\Users\\TEHS\\Anaconda3\\envs\\homework\\lib\\site-packages\\ipykernel_launcher.py:4: SettingWithCopyWarning: \n",
      "A value is trying to be set on a copy of a slice from a DataFrame.\n",
      "Try using .loc[row_indexer,col_indexer] = value instead\n",
      "\n",
      "See the caveats in the documentation: https://pandas.pydata.org/pandas-docs/stable/user_guide/indexing.html#returning-a-view-versus-a-copy\n",
      "  after removing the cwd from sys.path.\n"
     ]
    },
    {
     "data": {
      "text/html": [
       "<div>\n",
       "<style scoped>\n",
       "    .dataframe tbody tr th:only-of-type {\n",
       "        vertical-align: middle;\n",
       "    }\n",
       "\n",
       "    .dataframe tbody tr th {\n",
       "        vertical-align: top;\n",
       "    }\n",
       "\n",
       "    .dataframe thead th {\n",
       "        text-align: right;\n",
       "    }\n",
       "</style>\n",
       "<table border=\"1\" class=\"dataframe\">\n",
       "  <thead>\n",
       "    <tr style=\"text-align: right;\">\n",
       "      <th></th>\n",
       "      <th>City</th>\n",
       "      <th>Country</th>\n",
       "      <th>Latitude</th>\n",
       "      <th>longitude</th>\n",
       "      <th>Temperature</th>\n",
       "      <th>Humidity</th>\n",
       "      <th>Cloudiness</th>\n",
       "      <th>Wind Speed</th>\n",
       "      <th>Date</th>\n",
       "      <th>Hotel Name</th>\n",
       "    </tr>\n",
       "  </thead>\n",
       "  <tbody>\n",
       "    <tr>\n",
       "      <th>20</th>\n",
       "      <td>Port Lincoln</td>\n",
       "      <td>AU</td>\n",
       "      <td>-34.73</td>\n",
       "      <td>135.87</td>\n",
       "      <td>52.39</td>\n",
       "      <td>72</td>\n",
       "      <td>0</td>\n",
       "      <td>9.22</td>\n",
       "      <td>1603019797</td>\n",
       "      <td></td>\n",
       "    </tr>\n",
       "    <tr>\n",
       "      <th>55</th>\n",
       "      <td>Vrangel'</td>\n",
       "      <td>RU</td>\n",
       "      <td>42.73</td>\n",
       "      <td>133.08</td>\n",
       "      <td>53.24</td>\n",
       "      <td>53</td>\n",
       "      <td>0</td>\n",
       "      <td>2.15</td>\n",
       "      <td>1603019805</td>\n",
       "      <td></td>\n",
       "    </tr>\n",
       "    <tr>\n",
       "      <th>125</th>\n",
       "      <td>Kars</td>\n",
       "      <td>TR</td>\n",
       "      <td>40.60</td>\n",
       "      <td>43.09</td>\n",
       "      <td>69.80</td>\n",
       "      <td>18</td>\n",
       "      <td>0</td>\n",
       "      <td>5.82</td>\n",
       "      <td>1603019815</td>\n",
       "      <td></td>\n",
       "    </tr>\n",
       "    <tr>\n",
       "      <th>205</th>\n",
       "      <td>Los Andes</td>\n",
       "      <td>CL</td>\n",
       "      <td>-32.83</td>\n",
       "      <td>-70.60</td>\n",
       "      <td>60.01</td>\n",
       "      <td>99</td>\n",
       "      <td>0</td>\n",
       "      <td>0.40</td>\n",
       "      <td>1603019828</td>\n",
       "      <td></td>\n",
       "    </tr>\n",
       "    <tr>\n",
       "      <th>265</th>\n",
       "      <td>Buin</td>\n",
       "      <td>CL</td>\n",
       "      <td>-33.73</td>\n",
       "      <td>-70.75</td>\n",
       "      <td>64.00</td>\n",
       "      <td>93</td>\n",
       "      <td>0</td>\n",
       "      <td>2.24</td>\n",
       "      <td>1603019838</td>\n",
       "      <td></td>\n",
       "    </tr>\n",
       "  </tbody>\n",
       "</table>\n",
       "</div>"
      ],
      "text/plain": [
       "             City Country  Latitude  longitude  Temperature  Humidity  \\\n",
       "20   Port Lincoln      AU    -34.73     135.87        52.39        72   \n",
       "55       Vrangel'      RU     42.73     133.08        53.24        53   \n",
       "125          Kars      TR     40.60      43.09        69.80        18   \n",
       "205     Los Andes      CL    -32.83     -70.60        60.01        99   \n",
       "265          Buin      CL    -33.73     -70.75        64.00        93   \n",
       "\n",
       "     Cloudiness  Wind Speed        Date Hotel Name  \n",
       "20            0        9.22  1603019797             \n",
       "55            0        2.15  1603019805             \n",
       "125           0        5.82  1603019815             \n",
       "205           0        0.40  1603019828             \n",
       "265           0        2.24  1603019838             "
      ]
     },
     "execution_count": 7,
     "metadata": {},
     "output_type": "execute_result"
    }
   ],
   "source": [
    "#create hote dataframe\n",
    "hotel_df = city_df\n",
    "\n",
    "#add hotel name\n",
    "hotel_df[\"Hotel Name\"] = \"\"\n",
    "\n",
    "# Display the result\n",
    "hotel_df.head()"
   ]
  },
  {
   "cell_type": "code",
   "execution_count": 8,
   "metadata": {
    "ExecuteTime": {
     "end_time": "2020-10-18T23:16:02.258904Z",
     "start_time": "2020-10-18T23:15:53.631248Z"
    }
   },
   "outputs": [
    {
     "name": "stdout",
     "output_type": "stream",
     "text": [
      "Retrieving Results for Index 20: Port Lincoln.\n",
      "Closest hotel in Port Lincoln is Port Lincoln Hotel.\n",
      "------------\n",
      "Retrieving Results for Index 55: Vrangel'.\n"
     ]
    },
    {
     "name": "stderr",
     "output_type": "stream",
     "text": [
      "C:\\Users\\TEHS\\Anaconda3\\envs\\homework\\lib\\site-packages\\pandas\\core\\indexing.py:1765: SettingWithCopyWarning: \n",
      "A value is trying to be set on a copy of a slice from a DataFrame.\n",
      "Try using .loc[row_indexer,col_indexer] = value instead\n",
      "\n",
      "See the caveats in the documentation: https://pandas.pydata.org/pandas-docs/stable/user_guide/indexing.html#returning-a-view-versus-a-copy\n",
      "  isetter(loc, value)\n"
     ]
    },
    {
     "name": "stdout",
     "output_type": "stream",
     "text": [
      "Closest hotel in Vrangel' is Gostinichnyy Kompleks Vostok.\n",
      "------------\n",
      "Retrieving Results for Index 125: Kars.\n",
      "Closest hotel in Kars is Cheltikov Hotel.\n",
      "------------\n",
      "Retrieving Results for Index 205: Los Andes.\n",
      "Closest hotel in Los Andes is Termas el Corazon.\n",
      "------------\n",
      "Retrieving Results for Index 265: Buin.\n",
      "Closest hotel in Buin is Paihuen.\n",
      "------------\n",
      "Retrieving Results for Index 312: Corrales.\n",
      "Closest hotel in Corrales is Days Inn by Wyndham Rio Rancho.\n",
      "------------\n",
      "Retrieving Results for Index 443: Maciel.\n",
      "Closest hotel in Maciel is Life Hotel.\n",
      "------------\n",
      "Retrieving Results for Index 467: Constitución.\n",
      "Closest hotel in Constitución is Bed & Breakfast Sweet Dreams.\n",
      "------------\n",
      "-------End of Search-------\n"
     ]
    }
   ],
   "source": [
    "base_url = \"https://maps.googleapis.com/maps/api/place/nearbysearch/json\"\n",
    "\n",
    "params = {\"type\" : \"hotel\",\n",
    "          \"keyword\" : \"hotel\",\n",
    "          \"radius\" : 5000,\n",
    "          \"key\" : g_key}\n",
    "\n",
    "for index, row in hotel_df.iterrows():\n",
    "\n",
    "    # get city name, latitude and longtitude\n",
    "    lat = row[\"Latitude\"]\n",
    "    lng = row[\"longitude\"]\n",
    "    city_name = row[\"City\"]\n",
    "    \n",
    "    # add location to params\n",
    "    params[\"location\"] = f\"{lat},{lng}\"\n",
    "\n",
    "    # make API request\n",
    "    print(f\"Retrieving Results for Index {index}: {city_name}.\")\n",
    "    response = requests.get(base_url, params=params).json()\n",
    "    \n",
    "    # extract results\n",
    "    results = response['results']\n",
    "    \n",
    "    # save the hotel name to dataframe\n",
    "    try:\n",
    "        print(f\"Closest hotel in {city_name} is {results[0]['name']}.\")\n",
    "        hotel_df.loc[index, \"Hotel Name\"] = results[0]['name']\n",
    "\n",
    "    # if there is no hotel available, show missing field\n",
    "    except (KeyError, IndexError):\n",
    "        print(\"Missing field/result... skipping.\")\n",
    "        \n",
    "    print(\"------------\")\n",
    "\n",
    "# Print end of search once searching is completed\n",
    "print(\"-------End of Search-------\")"
   ]
  },
  {
   "cell_type": "code",
   "execution_count": 9,
   "metadata": {
    "ExecuteTime": {
     "end_time": "2020-10-18T23:16:02.279834Z",
     "start_time": "2020-10-18T23:16:02.259903Z"
    }
   },
   "outputs": [
    {
     "data": {
      "text/html": [
       "<div>\n",
       "<style scoped>\n",
       "    .dataframe tbody tr th:only-of-type {\n",
       "        vertical-align: middle;\n",
       "    }\n",
       "\n",
       "    .dataframe tbody tr th {\n",
       "        vertical-align: top;\n",
       "    }\n",
       "\n",
       "    .dataframe thead th {\n",
       "        text-align: right;\n",
       "    }\n",
       "</style>\n",
       "<table border=\"1\" class=\"dataframe\">\n",
       "  <thead>\n",
       "    <tr style=\"text-align: right;\">\n",
       "      <th></th>\n",
       "      <th>City</th>\n",
       "      <th>Country</th>\n",
       "      <th>Latitude</th>\n",
       "      <th>longitude</th>\n",
       "      <th>Temperature</th>\n",
       "      <th>Humidity</th>\n",
       "      <th>Cloudiness</th>\n",
       "      <th>Wind Speed</th>\n",
       "      <th>Date</th>\n",
       "      <th>Hotel Name</th>\n",
       "    </tr>\n",
       "  </thead>\n",
       "  <tbody>\n",
       "    <tr>\n",
       "      <th>20</th>\n",
       "      <td>Port Lincoln</td>\n",
       "      <td>AU</td>\n",
       "      <td>-34.73</td>\n",
       "      <td>135.87</td>\n",
       "      <td>52.39</td>\n",
       "      <td>72</td>\n",
       "      <td>0</td>\n",
       "      <td>9.22</td>\n",
       "      <td>1603019797</td>\n",
       "      <td>Port Lincoln Hotel</td>\n",
       "    </tr>\n",
       "    <tr>\n",
       "      <th>55</th>\n",
       "      <td>Vrangel'</td>\n",
       "      <td>RU</td>\n",
       "      <td>42.73</td>\n",
       "      <td>133.08</td>\n",
       "      <td>53.24</td>\n",
       "      <td>53</td>\n",
       "      <td>0</td>\n",
       "      <td>2.15</td>\n",
       "      <td>1603019805</td>\n",
       "      <td>Gostinichnyy Kompleks Vostok</td>\n",
       "    </tr>\n",
       "    <tr>\n",
       "      <th>125</th>\n",
       "      <td>Kars</td>\n",
       "      <td>TR</td>\n",
       "      <td>40.60</td>\n",
       "      <td>43.09</td>\n",
       "      <td>69.80</td>\n",
       "      <td>18</td>\n",
       "      <td>0</td>\n",
       "      <td>5.82</td>\n",
       "      <td>1603019815</td>\n",
       "      <td>Cheltikov Hotel</td>\n",
       "    </tr>\n",
       "    <tr>\n",
       "      <th>205</th>\n",
       "      <td>Los Andes</td>\n",
       "      <td>CL</td>\n",
       "      <td>-32.83</td>\n",
       "      <td>-70.60</td>\n",
       "      <td>60.01</td>\n",
       "      <td>99</td>\n",
       "      <td>0</td>\n",
       "      <td>0.40</td>\n",
       "      <td>1603019828</td>\n",
       "      <td>Termas el Corazon</td>\n",
       "    </tr>\n",
       "    <tr>\n",
       "      <th>265</th>\n",
       "      <td>Buin</td>\n",
       "      <td>CL</td>\n",
       "      <td>-33.73</td>\n",
       "      <td>-70.75</td>\n",
       "      <td>64.00</td>\n",
       "      <td>93</td>\n",
       "      <td>0</td>\n",
       "      <td>2.24</td>\n",
       "      <td>1603019838</td>\n",
       "      <td>Paihuen</td>\n",
       "    </tr>\n",
       "    <tr>\n",
       "      <th>312</th>\n",
       "      <td>Corrales</td>\n",
       "      <td>US</td>\n",
       "      <td>35.24</td>\n",
       "      <td>-106.61</td>\n",
       "      <td>53.01</td>\n",
       "      <td>21</td>\n",
       "      <td>0</td>\n",
       "      <td>1.99</td>\n",
       "      <td>1603019688</td>\n",
       "      <td>Days Inn by Wyndham Rio Rancho</td>\n",
       "    </tr>\n",
       "    <tr>\n",
       "      <th>443</th>\n",
       "      <td>Maciel</td>\n",
       "      <td>AR</td>\n",
       "      <td>-32.46</td>\n",
       "      <td>-60.89</td>\n",
       "      <td>75.00</td>\n",
       "      <td>88</td>\n",
       "      <td>0</td>\n",
       "      <td>4.70</td>\n",
       "      <td>1603019869</td>\n",
       "      <td>Life Hotel</td>\n",
       "    </tr>\n",
       "    <tr>\n",
       "      <th>467</th>\n",
       "      <td>Constitución</td>\n",
       "      <td>CL</td>\n",
       "      <td>-35.33</td>\n",
       "      <td>-72.42</td>\n",
       "      <td>51.42</td>\n",
       "      <td>83</td>\n",
       "      <td>0</td>\n",
       "      <td>5.93</td>\n",
       "      <td>1603019873</td>\n",
       "      <td>Bed &amp; Breakfast Sweet Dreams</td>\n",
       "    </tr>\n",
       "  </tbody>\n",
       "</table>\n",
       "</div>"
      ],
      "text/plain": [
       "             City Country  Latitude  longitude  Temperature  Humidity  \\\n",
       "20   Port Lincoln      AU    -34.73     135.87        52.39        72   \n",
       "55       Vrangel'      RU     42.73     133.08        53.24        53   \n",
       "125          Kars      TR     40.60      43.09        69.80        18   \n",
       "205     Los Andes      CL    -32.83     -70.60        60.01        99   \n",
       "265          Buin      CL    -33.73     -70.75        64.00        93   \n",
       "312      Corrales      US     35.24    -106.61        53.01        21   \n",
       "443        Maciel      AR    -32.46     -60.89        75.00        88   \n",
       "467  Constitución      CL    -35.33     -72.42        51.42        83   \n",
       "\n",
       "     Cloudiness  Wind Speed        Date                      Hotel Name  \n",
       "20            0        9.22  1603019797              Port Lincoln Hotel  \n",
       "55            0        2.15  1603019805    Gostinichnyy Kompleks Vostok  \n",
       "125           0        5.82  1603019815                 Cheltikov Hotel  \n",
       "205           0        0.40  1603019828               Termas el Corazon  \n",
       "265           0        2.24  1603019838                         Paihuen  \n",
       "312           0        1.99  1603019688  Days Inn by Wyndham Rio Rancho  \n",
       "443           0        4.70  1603019869                      Life Hotel  \n",
       "467           0        5.93  1603019873    Bed & Breakfast Sweet Dreams  "
      ]
     },
     "execution_count": 9,
     "metadata": {},
     "output_type": "execute_result"
    }
   ],
   "source": [
    "# Display the hotel data frame\n",
    "hotel_df"
   ]
  },
  {
   "cell_type": "code",
   "execution_count": 13,
   "metadata": {
    "ExecuteTime": {
     "end_time": "2020-10-18T23:17:47.298271Z",
     "start_time": "2020-10-18T23:17:47.293047Z"
    }
   },
   "outputs": [],
   "source": [
    "# NOTE: Do not change any of the code in this cell\n",
    "\n",
    "# Using the template add the hotel marks to the heatmap\n",
    "info_box_template = \"\"\"\n",
    "<dl>\n",
    "<dt>Name</dt><dd>{Hotel Name}</dd>\n",
    "<dt>City</dt><dd>{City}</dd>\n",
    "<dt>Country</dt><dd>{Country}</dd>\n",
    "</dl>\n",
    "\"\"\"\n",
    "# Store the DataFrame Row\n",
    "# NOTE: be sure to update with your DataFrame name\n",
    "hotel_info = [info_box_template.format(**row) for index, row in hotel_df.iterrows()]\n",
    "locations = hotel_df[[\"Latitude\", \"longitude\"]]"
   ]
  },
  {
   "cell_type": "code",
   "execution_count": 14,
   "metadata": {
    "ExecuteTime": {
     "end_time": "2020-10-18T23:17:50.751493Z",
     "start_time": "2020-10-18T23:17:50.731526Z"
    }
   },
   "outputs": [
    {
     "data": {
      "application/vnd.jupyter.widget-view+json": {
       "model_id": "edf8cbdc44184703a8f93686720a904f",
       "version_major": 2,
       "version_minor": 0
      },
      "text/plain": [
       "Figure(layout=FigureLayout(height='420px'))"
      ]
     },
     "metadata": {},
     "output_type": "display_data"
    }
   ],
   "source": [
    "# Add marker layer and info box content ontop of heat map\n",
    "markers = gmaps.marker_layer(locations, info_box_content = hotel_info)\n",
    "\n",
    "# Add the layer to the map\n",
    "fig.add_layer(markers)\n",
    "\n",
    "# Display Map\n",
    "fig"
   ]
  },
  {
   "cell_type": "code",
   "execution_count": null,
   "metadata": {},
   "outputs": [],
   "source": []
  }
 ],
 "metadata": {
  "hide_input": false,
  "kernelspec": {
   "display_name": "Python 3",
   "language": "python",
   "name": "python3"
  },
  "language_info": {
   "codemirror_mode": {
    "name": "ipython",
    "version": 3
   },
   "file_extension": ".py",
   "mimetype": "text/x-python",
   "name": "python",
   "nbconvert_exporter": "python",
   "pygments_lexer": "ipython3",
   "version": "3.7.9"
  },
  "latex_envs": {
   "LaTeX_envs_menu_present": true,
   "autoclose": false,
   "autocomplete": true,
   "bibliofile": "biblio.bib",
   "cite_by": "apalike",
   "current_citInitial": 1,
   "eqLabelWithNumbers": true,
   "eqNumInitial": 1,
   "hotkeys": {
    "equation": "Ctrl-E",
    "itemize": "Ctrl-I"
   },
   "labels_anchors": false,
   "latex_user_defs": false,
   "report_style_numbering": false,
   "user_envs_cfg": false
  },
  "varInspector": {
   "cols": {
    "lenName": 16,
    "lenType": 16,
    "lenVar": 40
   },
   "kernels_config": {
    "python": {
     "delete_cmd_postfix": "",
     "delete_cmd_prefix": "del ",
     "library": "var_list.py",
     "varRefreshCmd": "print(var_dic_list())"
    },
    "r": {
     "delete_cmd_postfix": ") ",
     "delete_cmd_prefix": "rm(",
     "library": "var_list.r",
     "varRefreshCmd": "cat(var_dic_list()) "
    }
   },
   "types_to_exclude": [
    "module",
    "function",
    "builtin_function_or_method",
    "instance",
    "_Feature"
   ],
   "window_display": false
  }
 },
 "nbformat": 4,
 "nbformat_minor": 4
}
